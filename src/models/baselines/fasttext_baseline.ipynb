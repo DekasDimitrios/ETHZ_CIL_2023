{
  "nbformat": 4,
  "nbformat_minor": 0,
  "metadata": {
    "colab": {
      "provenance": [],
      "machine_shape": "hm",
      "gpuType": "T4"
    },
    "kernelspec": {
      "name": "python3",
      "display_name": "Python 3"
    },
    "language_info": {
      "name": "python"
    },
    "accelerator": "GPU"
  },
  "cells": [
    {
      "cell_type": "code",
      "execution_count": null,
      "metadata": {
        "id": "ySY7VmYN2GjC"
      },
      "outputs": [],
      "source": [
        "\n",
        "import numpy as np\n",
        "import pandas as pd\n",
        "import sklearn\n"
      ]
    },
    {
      "cell_type": "code",
      "source": [
        "!pip install fasttext"
      ],
      "metadata": {
        "colab": {
          "base_uri": "https://localhost:8080/"
        },
        "id": "dbAu_5_lBndf",
        "outputId": "1b3f1dd7-7a42-49db-b0b5-d134d5be94f1"
      },
      "execution_count": null,
      "outputs": [
        {
          "output_type": "stream",
          "name": "stdout",
          "text": [
            "Requirement already satisfied: fasttext in /usr/local/lib/python3.10/dist-packages (0.9.2)\n",
            "Requirement already satisfied: pybind11>=2.2 in /usr/local/lib/python3.10/dist-packages (from fasttext) (2.10.4)\n",
            "Requirement already satisfied: setuptools>=0.7.0 in /usr/local/lib/python3.10/dist-packages (from fasttext) (67.7.2)\n",
            "Requirement already satisfied: numpy in /usr/local/lib/python3.10/dist-packages (from fasttext) (1.22.4)\n"
          ]
        }
      ]
    },
    {
      "cell_type": "markdown",
      "source": [
        "Load preprocessed data\n"
      ],
      "metadata": {
        "id": "Y-LKpj3b6zVr"
      }
    },
    {
      "cell_type": "code",
      "source": [
        "def load_tweets(file_path):\n",
        "    tweets = list()\n",
        "    with open(file_path, 'r', encoding='utf-8') as preprocessed_tweets:\n",
        "        for tweet in preprocessed_tweets :\n",
        "            tweets.append(tweet.rstrip('\\n'))\n",
        "    return tweets"
      ],
      "metadata": {
        "id": "P7BrjuLP61oa"
      },
      "execution_count": null,
      "outputs": []
    },
    {
      "cell_type": "code",
      "source": [
        "    train_pos_tweets = load_tweets('/content/processed_pos_tweets_non_transformer.txt')\n",
        "    train_neg_tweets = load_tweets('/content/processed_neg_tweets_non_transformer.txt')\n",
        "    test_tweets = load_tweets('/content/processed_test_tweets_non_transformer.txt')\n",
        "    print(\"Tweets loaded\")"
      ],
      "metadata": {
        "id": "JZUt9_5663fQ",
        "colab": {
          "base_uri": "https://localhost:8080/"
        },
        "outputId": "b2bdc85f-4dfb-463a-8161-5ff786564a59"
      },
      "execution_count": null,
      "outputs": [
        {
          "output_type": "stream",
          "name": "stdout",
          "text": [
            "Tweets loaded\n"
          ]
        }
      ]
    },
    {
      "cell_type": "markdown",
      "source": [
        "Convert to Dataframe"
      ],
      "metadata": {
        "id": "fZMn7jrB7vjk"
      }
    },
    {
      "cell_type": "code",
      "source": [
        "    from sklearn.model_selection import train_test_split\n",
        "    from sklearn.utils import shuffle\n",
        "    seed =12222\n",
        "    train_neg_labels = [0] * len(train_neg_tweets)\n",
        "    train_pos_labels = [1] * len(train_pos_tweets)\n",
        "\n",
        "    train_tweets = train_pos_tweets + train_neg_tweets\n",
        "    train_labels = train_pos_labels + train_neg_labels\n",
        "    #Shuffle\n",
        "    train_tweets, train_labels = shuffle(train_tweets, train_labels, random_state=10)\n",
        "    data = pd.DataFrame({'tweet': train_tweets, 'label': train_labels})\n",
        "\n",
        "    X = list(data[\"tweet\"])\n",
        "    y = list(data[\"label\"])\n",
        "    X_train, X_val, y_train, y_val = train_test_split(X, y, test_size=0.05,stratify=y,random_state=seed)\n",
        "    X_train_set = pd.DataFrame({'tweet': X_train, 'label': y_train})\n",
        "    X_val_set = pd.DataFrame({'tweet': X_val, 'label': y_val})\n",
        "\n",
        "    X_test_set = pd.DataFrame({'tweet': test_tweets})\n"
      ],
      "metadata": {
        "id": "DF7Dh0dW7yEt"
      },
      "execution_count": null,
      "outputs": []
    },
    {
      "cell_type": "markdown",
      "source": [
        "Transform data into format expected by fasttext"
      ],
      "metadata": {
        "id": "_h8nm2xMBz0N"
      }
    },
    {
      "cell_type": "code",
      "source": [
        "train_file = '/content/train_data.txt'\n",
        "val_file = '/content/val_data.txt'\n",
        "test_file = '/content/test_data.txt'\n",
        "\n",
        "with open(train_file, 'w') as f:\n",
        "    for index, row in X_train_set.iterrows():\n",
        "        f.write('__label__{} {}\\n'.format(row['label'], row['tweet']))\n",
        "\n",
        "with open(val_file, 'w') as f:\n",
        "    for index, row in X_val_set.iterrows():\n",
        "        f.write('{}\\n'.format(row['tweet']))\n",
        "\n",
        "with open(test_file, 'w') as f:\n",
        "    for index, row in X_test_set.iterrows():\n",
        "        f.write('{}\\n'.format(row['tweet']))"
      ],
      "metadata": {
        "id": "SVF8nrCn7_h5"
      },
      "execution_count": null,
      "outputs": []
    },
    {
      "cell_type": "markdown",
      "source": [
        "Train fasttext\n"
      ],
      "metadata": {
        "id": "pZvIfCKvEXzC"
      }
    },
    {
      "cell_type": "code",
      "source": [
        "import fasttext\n",
        "model = fasttext.train_supervised(input=train_file, lr=0.01, dim=150, epoch=20,seed=seed)"
      ],
      "metadata": {
        "id": "kJfROTd6EWBH"
      },
      "execution_count": null,
      "outputs": []
    },
    {
      "cell_type": "markdown",
      "source": [
        "Evaluation on validation set"
      ],
      "metadata": {
        "id": "ZEGzhsvRFapt"
      }
    },
    {
      "cell_type": "code",
      "source": [
        "with open(val_file, 'w') as f:\n",
        "    for index, row in X_val_set.iterrows():\n",
        "        f.write('{}\\n'.format(row['tweet']))"
      ],
      "metadata": {
        "id": "vk3HT7RsFZhS"
      },
      "execution_count": null,
      "outputs": []
    },
    {
      "cell_type": "code",
      "source": [
        "with open('/content/val_data.txt') as f:\n",
        "    val_data = [line.strip() for line in f]\n",
        "\n",
        "# Create predictions for the test data\n",
        "labels = [model.predict(text)[0][0].replace('__label__', '') for text in val_data]"
      ],
      "metadata": {
        "id": "a9HH4DToHQpb"
      },
      "execution_count": null,
      "outputs": []
    },
    {
      "cell_type": "code",
      "source": [
        "from sklearn.metrics import accuracy_score\n",
        "y_preds = [0 if val == '0' else 1 for val in labels]\n",
        "accuracy = accuracy_score(list(y_val), y_preds)\n",
        "print('Validation Accuracy:', accuracy)"
      ],
      "metadata": {
        "colab": {
          "base_uri": "https://localhost:8080/"
        },
        "id": "sEZuENdZUKJ-",
        "outputId": "2c59e8c8-7b93-418f-8aeb-52a743a7d7b8"
      },
      "execution_count": null,
      "outputs": [
        {
          "metadata": {
            "tags": null
          },
          "name": "stdout",
          "output_type": "stream",
          "text": [
            "Validation Accuracy: 0.8018685694011906\n"
          ]
        }
      ]
    },
    {
      "cell_type": "markdown",
      "source": [
        "Generating predictions for test set"
      ],
      "metadata": {
        "id": "cuIO7P4sTzT7"
      }
    },
    {
      "cell_type": "code",
      "source": [
        "with open('/content/test_data.txt') as f:\n",
        "    test_data = [line.strip() for line in f]\n",
        "labels = [model.predict(text)[0][0].replace('__label__', '') for text in test_data]\n",
        "y_preds = [-1 if val == '0' else 1 for val in labels]\n",
        "df = pd.DataFrame(y_preds, columns=[\"Prediction\"])\n",
        "df.index.name = \"Id\"\n",
        "df.index += 1\n",
        "df.to_csv(\"/content/test_data_fastText.csv\")"
      ],
      "metadata": {
        "id": "_bQTppK8KsV2"
      },
      "execution_count": null,
      "outputs": []
    }
  ]
}