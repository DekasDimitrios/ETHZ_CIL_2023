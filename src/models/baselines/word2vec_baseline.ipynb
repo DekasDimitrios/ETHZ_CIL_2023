{
  "nbformat": 4,
  "nbformat_minor": 0,
  "metadata": {
    "colab": {
      "provenance": [],
      "machine_shape": "hm",
      "gpuType": "A100"
    },
    "kernelspec": {
      "name": "python3",
      "display_name": "Python 3"
    },
    "language_info": {
      "name": "python"
    },
    "accelerator": "GPU"
  },
  "cells": [
    {
      "cell_type": "code",
      "execution_count": null,
      "metadata": {
        "id": "PwmF-Vs_exEk"
      },
      "outputs": [],
      "source": [
        "import numpy as np\n",
        "import pandas as pd\n",
        "import sklearn\n",
        "from xgboost import XGBRFClassifier, XGBClassifier"
      ]
    },
    {
      "cell_type": "code",
      "source": [
        "def load_tweets(file_path):\n",
        "    tweets = list()\n",
        "    with open(file_path, 'r', encoding='utf-8') as preprocessed_tweets:\n",
        "        for tweet in preprocessed_tweets :\n",
        "            tweets.append(tweet.rstrip('\\n'))\n",
        "    return tweets"
      ],
      "metadata": {
        "id": "2A86FzzufheK"
      },
      "execution_count": null,
      "outputs": []
    },
    {
      "cell_type": "code",
      "source": [
        "    train_pos_tweets = load_tweets('/content/processed_pos_tweets_non_transformer.txt')\n",
        "    train_neg_tweets = load_tweets('/content/processed_neg_tweets_non_transformer.txt')\n",
        "    test_tweets = load_tweets('/content/processed_test_tweets_non_transformer.txt')\n",
        "\n",
        "    print(\"Tweets loaded\")"
      ],
      "metadata": {
        "colab": {
          "base_uri": "https://localhost:8080/"
        },
        "id": "gWBWdRjAkPkg",
        "outputId": "adcc1bb2-5fad-4c77-b900-eff25a03eca7"
      },
      "execution_count": null,
      "outputs": [
        {
          "output_type": "stream",
          "name": "stdout",
          "text": [
            "Tweets loaded\n"
          ]
        }
      ]
    },
    {
      "cell_type": "code",
      "source": [
        "    from sklearn.model_selection import train_test_split\n",
        "    from sklearn.utils import shuffle\n",
        "    seed =12222\n",
        "    train_neg_labels = [0] * len(train_neg_tweets)\n",
        "    train_pos_labels = [1] * len(train_pos_tweets)\n",
        "\n",
        "    train_tweets = train_pos_tweets + train_neg_tweets\n",
        "    train_labels = train_pos_labels + train_neg_labels\n",
        "    #Shuffle\n",
        "    train_tweets, train_labels = shuffle(train_tweets, train_labels, random_state=10)\n",
        "    data = pd.DataFrame({'tweet': train_tweets, 'label': train_labels})\n",
        "\n",
        "    X = list(data[\"tweet\"])\n",
        "    y = list(data[\"label\"])\n",
        "    X_train, X_val, y_train, y_val = train_test_split(X, y, test_size=0.05,stratify=y,random_state=seed)\n",
        "    X_train_set = pd.DataFrame({'tweet': X_train, 'label': y_train})\n",
        "    X_val_set = pd.DataFrame({'tweet': X_val, 'label': y_val})\n",
        "\n",
        "    X_test_set = pd.DataFrame({'tweet': test_tweets})"
      ],
      "metadata": {
        "id": "ARdD9RMTkTLo"
      },
      "execution_count": null,
      "outputs": []
    },
    {
      "cell_type": "code",
      "source": [
        "!pip install gensim"
      ],
      "metadata": {
        "colab": {
          "base_uri": "https://localhost:8080/"
        },
        "id": "h8IX3R_ekYe5",
        "outputId": "f041897f-e6f3-4277-aa7b-2281ee5e2c43"
      },
      "execution_count": null,
      "outputs": [
        {
          "output_type": "stream",
          "name": "stdout",
          "text": [
            "Requirement already satisfied: gensim in /usr/local/lib/python3.10/dist-packages (4.3.1)\n",
            "Requirement already satisfied: numpy>=1.18.5 in /usr/local/lib/python3.10/dist-packages (from gensim) (1.22.4)\n",
            "Requirement already satisfied: scipy>=1.7.0 in /usr/local/lib/python3.10/dist-packages (from gensim) (1.10.1)\n",
            "Requirement already satisfied: smart-open>=1.8.1 in /usr/local/lib/python3.10/dist-packages (from gensim) (6.3.0)\n"
          ]
        }
      ]
    },
    {
      "cell_type": "code",
      "source": [
        "import nltk\n",
        "from nltk import WhitespaceTokenizer\n",
        "tokenizer = WhitespaceTokenizer()\n",
        "def tokenize(df):\n",
        "  df['tweet']=df['tweet'].apply(lambda tweet: tokenizer.tokenize(tweet))"
      ],
      "metadata": {
        "id": "O-I-KlTrSVe2"
      },
      "execution_count": null,
      "outputs": []
    },
    {
      "cell_type": "code",
      "source": [
        "tokenize(X_train_set)\n",
        "tokenize(X_val_set)\n",
        "tokenize(X_test_set)"
      ],
      "metadata": {
        "id": "G64LCHgQUmlR"
      },
      "execution_count": null,
      "outputs": []
    },
    {
      "cell_type": "code",
      "source": [
        "input = X_train_set['tweet'].tolist()"
      ],
      "metadata": {
        "id": "BO-1JLDDWxAW"
      },
      "execution_count": null,
      "outputs": []
    },
    {
      "cell_type": "code",
      "source": [
        "from gensim.models import Word2Vec\n",
        "# define hyperparameters\n",
        "model = Word2Vec(min_count=5,\n",
        "                 sample=5e-5,\n",
        "                     window=3,\n",
        "                     vector_size=250,\n",
        "                      alpha=0.035,\n",
        "                     min_alpha=0.00075,\n",
        "                     negative=5,\n",
        "                     workers=4,\n",
        "                 seed = seed)"
      ],
      "metadata": {
        "id": "dsIB9tH-k3m4"
      },
      "execution_count": null,
      "outputs": []
    },
    {
      "cell_type": "code",
      "source": [
        "model.build_vocab(input)"
      ],
      "metadata": {
        "id": "_N6vclsHlzRD"
      },
      "execution_count": null,
      "outputs": []
    },
    {
      "cell_type": "code",
      "source": [
        "model.train(input,total_examples=model.corpus_count, epochs=25)"
      ],
      "metadata": {
        "colab": {
          "base_uri": "https://localhost:8080/"
        },
        "id": "-5r4jp04m-ve",
        "outputId": "bb56e368-ac5c-42ba-f1d9-dd9adade94fd"
      },
      "execution_count": null,
      "outputs": [
        {
          "output_type": "execute_result",
          "data": {
            "text/plain": [
              "(211940308, 394880650)"
            ]
          },
          "metadata": {},
          "execution_count": 11
        }
      ]
    },
    {
      "cell_type": "code",
      "source": [
        "model.wv.most_similar(positive=[\"smile\"])\n"
      ],
      "metadata": {
        "colab": {
          "base_uri": "https://localhost:8080/"
        },
        "id": "JUnd4liaUK8W",
        "outputId": "508a0b53-ee63-484a-e14c-2755cde192a6"
      },
      "execution_count": null,
      "outputs": [
        {
          "output_type": "execute_result",
          "data": {
            "text/plain": [
              "[('smiling', 0.608976423740387),\n",
              " ('face', 0.5537009835243225),\n",
              " ('frown', 0.5357383489608765),\n",
              " ('always', 0.5272393822669983),\n",
              " ('heart', 0.4652939736843109),\n",
              " ('person', 0.45580169558525085),\n",
              " ('make', 0.445931077003479),\n",
              " ('happy', 0.4452197253704071),\n",
              " ('love', 0.44057604670524597),\n",
              " ('beautiful', 0.43544161319732666)]"
            ]
          },
          "metadata": {},
          "execution_count": 12
        }
      ]
    },
    {
      "cell_type": "code",
      "source": [
        "model.wv.most_similar(positive=[\")\"])\n"
      ],
      "metadata": {
        "colab": {
          "base_uri": "https://localhost:8080/"
        },
        "id": "9cKm4YLAgBLG",
        "outputId": "8917c516-10ba-4ddd-c229-f03ff3122e15"
      },
      "execution_count": null,
      "outputs": [
        {
          "output_type": "execute_result",
          "data": {
            "text/plain": [
              "[('then', 0.9948365092277527),\n",
              " ('same', 0.9930252432823181),\n",
              " ('will', 0.9929379820823669),\n",
              " ('not', 0.9929072856903076),\n",
              " ('but', 0.9928439259529114),\n",
              " ('there', 0.9927449822425842),\n",
              " (\"don't\", 0.9926263689994812),\n",
              " ('rt', 0.9925832152366638),\n",
              " (\"it's\", 0.9920400977134705),\n",
              " ('why', 0.9918318390846252)]"
            ]
          },
          "metadata": {},
          "execution_count": 13
        }
      ]
    },
    {
      "cell_type": "code",
      "source": [
        "model.wv.most_similar(positive=[\"(\"])\n"
      ],
      "metadata": {
        "colab": {
          "base_uri": "https://localhost:8080/"
        },
        "id": "lo_JssxIgCw8",
        "outputId": "2140fb40-edeb-4de1-e0e1-ea0156a9b273"
      },
      "execution_count": null,
      "outputs": [
        {
          "output_type": "execute_result",
          "data": {
            "text/plain": [
              "[('same', 0.9956627488136292),\n",
              " (\"don't\", 0.9945088624954224),\n",
              " ('here', 0.9943466782569885),\n",
              " ('who', 0.9941233396530151),\n",
              " ('that', 0.9940735697746277),\n",
              " ('at', 0.9939746856689453),\n",
              " ('out', 0.9939121007919312),\n",
              " ('im', 0.9938834309577942),\n",
              " ('but', 0.993812620639801),\n",
              " ('did', 0.9937651753425598)]"
            ]
          },
          "metadata": {},
          "execution_count": 14
        }
      ]
    },
    {
      "cell_type": "code",
      "source": [
        "model.wv.most_similar(positive=[\"fun\"])\n"
      ],
      "metadata": {
        "colab": {
          "base_uri": "https://localhost:8080/"
        },
        "id": "xwOHxW5tgElv",
        "outputId": "1fa8506e-6d02-4c37-f55c-ba0c6490e659"
      },
      "execution_count": null,
      "outputs": [
        {
          "output_type": "execute_result",
          "data": {
            "text/plain": [
              "[('enjoy', 0.4797041118144989),\n",
              " ('weekend', 0.47730129957199097),\n",
              " ('awesome', 0.45192423462867737),\n",
              " ('great', 0.4381538927555084),\n",
              " ('partying', 0.43800804018974304),\n",
              " ('good', 0.42641547322273254),\n",
              " ('tomorrow', 0.4135989248752594),\n",
              " ('going', 0.41259416937828064),\n",
              " ('funn', 0.4123479425907135),\n",
              " ('excited', 0.40758955478668213)]"
            ]
          },
          "metadata": {},
          "execution_count": 15
        }
      ]
    },
    {
      "cell_type": "code",
      "source": [
        "size =250\n",
        "def tweet_embeddings(tweet, size):\n",
        "    vec = np.zeros(size).reshape((1, size))\n",
        "    count = 0\n",
        "    for word in tweet:\n",
        "        # print(word)\n",
        "        try:\n",
        "            vec += model.wv[word].reshape((1, size))\n",
        "            count += 1\n",
        "        # throws KeyError if word not found\n",
        "        except KeyError:\n",
        "            continue\n",
        "    # #normalize\n",
        "    if count != 0:\n",
        "        vec /= count\n",
        "    return vec"
      ],
      "metadata": {
        "id": "VpuRuQLiqp9X"
      },
      "execution_count": null,
      "outputs": []
    },
    {
      "cell_type": "code",
      "source": [
        "transformed_X_train = np.concatenate([tweet_embeddings(z, size) for z in X_train_set['tweet']])\n",
        "transformed_X_val = np.concatenate([tweet_embeddings(z, size) for z in X_val_set['tweet']])\n",
        "transformed_X_test = np.concatenate([tweet_embeddings(z, size) for z in X_test_set['tweet']])"
      ],
      "metadata": {
        "id": "COExPwuSpdxR"
      },
      "execution_count": null,
      "outputs": []
    },
    {
      "cell_type": "code",
      "source": [
        "transformed_X_train.shape"
      ],
      "metadata": {
        "colab": {
          "base_uri": "https://localhost:8080/"
        },
        "id": "WXJ1rGvVeRZ9",
        "outputId": "50f4b568-480a-4912-9730-1f58ae4ff2f7"
      },
      "execution_count": null,
      "outputs": [
        {
          "output_type": "execute_result",
          "data": {
            "text/plain": [
              "(2153743, 250)"
            ]
          },
          "metadata": {},
          "execution_count": 18
        }
      ]
    },
    {
      "cell_type": "code",
      "source": [
        "from sklearn.linear_model import SGDClassifier\n",
        "from xgboost import XGBClassifier\n",
        "from sklearn.ensemble import RandomForestClassifier\n",
        "# model = RandomForestClassifier(n_estimators = 200,random_state=seed, max_depth = 10, min_samples_split = 30,verbose =True, n_jobs=-1)\n",
        "# model = RandomForestClassifier(n_estimators=235, max_depth=11, verbose=True,n_jobs=-1,random_state=seed)\n",
        "# model = SGDClassifier(loss=\"log\", penalty=\"l1\")\n",
        "model_xgb = XGBClassifier(n_estimators = 1250, tree_method = \"gpu_hist\", objective='binary:logistic')"
      ],
      "metadata": {
        "id": "uXjbJ-yismfU"
      },
      "execution_count": null,
      "outputs": []
    },
    {
      "cell_type": "code",
      "source": [
        "model_xgb.fit(transformed_X_train,y_train)"
      ],
      "metadata": {
        "colab": {
          "base_uri": "https://localhost:8080/",
          "height": 249
        },
        "id": "pyL6cyAjy5IP",
        "outputId": "a78840e8-2bf5-4adf-bc6a-a2e60c6d629f"
      },
      "execution_count": null,
      "outputs": [
        {
          "output_type": "execute_result",
          "data": {
            "text/plain": [
              "XGBClassifier(base_score=None, booster=None, callbacks=None,\n",
              "              colsample_bylevel=None, colsample_bynode=None,\n",
              "              colsample_bytree=None, early_stopping_rounds=None,\n",
              "              enable_categorical=False, eval_metric=None, feature_types=None,\n",
              "              gamma=None, gpu_id=None, grow_policy=None, importance_type=None,\n",
              "              interaction_constraints=None, learning_rate=None, max_bin=None,\n",
              "              max_cat_threshold=None, max_cat_to_onehot=None,\n",
              "              max_delta_step=None, max_depth=None, max_leaves=None,\n",
              "              min_child_weight=None, missing=nan, monotone_constraints=None,\n",
              "              n_estimators=1250, n_jobs=None, num_parallel_tree=None,\n",
              "              predictor=None, random_state=None, ...)"
            ],
            "text/html": [
              "<style>#sk-container-id-4 {color: black;background-color: white;}#sk-container-id-4 pre{padding: 0;}#sk-container-id-4 div.sk-toggleable {background-color: white;}#sk-container-id-4 label.sk-toggleable__label {cursor: pointer;display: block;width: 100%;margin-bottom: 0;padding: 0.3em;box-sizing: border-box;text-align: center;}#sk-container-id-4 label.sk-toggleable__label-arrow:before {content: \"▸\";float: left;margin-right: 0.25em;color: #696969;}#sk-container-id-4 label.sk-toggleable__label-arrow:hover:before {color: black;}#sk-container-id-4 div.sk-estimator:hover label.sk-toggleable__label-arrow:before {color: black;}#sk-container-id-4 div.sk-toggleable__content {max-height: 0;max-width: 0;overflow: hidden;text-align: left;background-color: #f0f8ff;}#sk-container-id-4 div.sk-toggleable__content pre {margin: 0.2em;color: black;border-radius: 0.25em;background-color: #f0f8ff;}#sk-container-id-4 input.sk-toggleable__control:checked~div.sk-toggleable__content {max-height: 200px;max-width: 100%;overflow: auto;}#sk-container-id-4 input.sk-toggleable__control:checked~label.sk-toggleable__label-arrow:before {content: \"▾\";}#sk-container-id-4 div.sk-estimator input.sk-toggleable__control:checked~label.sk-toggleable__label {background-color: #d4ebff;}#sk-container-id-4 div.sk-label input.sk-toggleable__control:checked~label.sk-toggleable__label {background-color: #d4ebff;}#sk-container-id-4 input.sk-hidden--visually {border: 0;clip: rect(1px 1px 1px 1px);clip: rect(1px, 1px, 1px, 1px);height: 1px;margin: -1px;overflow: hidden;padding: 0;position: absolute;width: 1px;}#sk-container-id-4 div.sk-estimator {font-family: monospace;background-color: #f0f8ff;border: 1px dotted black;border-radius: 0.25em;box-sizing: border-box;margin-bottom: 0.5em;}#sk-container-id-4 div.sk-estimator:hover {background-color: #d4ebff;}#sk-container-id-4 div.sk-parallel-item::after {content: \"\";width: 100%;border-bottom: 1px solid gray;flex-grow: 1;}#sk-container-id-4 div.sk-label:hover label.sk-toggleable__label {background-color: #d4ebff;}#sk-container-id-4 div.sk-serial::before {content: \"\";position: absolute;border-left: 1px solid gray;box-sizing: border-box;top: 0;bottom: 0;left: 50%;z-index: 0;}#sk-container-id-4 div.sk-serial {display: flex;flex-direction: column;align-items: center;background-color: white;padding-right: 0.2em;padding-left: 0.2em;position: relative;}#sk-container-id-4 div.sk-item {position: relative;z-index: 1;}#sk-container-id-4 div.sk-parallel {display: flex;align-items: stretch;justify-content: center;background-color: white;position: relative;}#sk-container-id-4 div.sk-item::before, #sk-container-id-4 div.sk-parallel-item::before {content: \"\";position: absolute;border-left: 1px solid gray;box-sizing: border-box;top: 0;bottom: 0;left: 50%;z-index: -1;}#sk-container-id-4 div.sk-parallel-item {display: flex;flex-direction: column;z-index: 1;position: relative;background-color: white;}#sk-container-id-4 div.sk-parallel-item:first-child::after {align-self: flex-end;width: 50%;}#sk-container-id-4 div.sk-parallel-item:last-child::after {align-self: flex-start;width: 50%;}#sk-container-id-4 div.sk-parallel-item:only-child::after {width: 0;}#sk-container-id-4 div.sk-dashed-wrapped {border: 1px dashed gray;margin: 0 0.4em 0.5em 0.4em;box-sizing: border-box;padding-bottom: 0.4em;background-color: white;}#sk-container-id-4 div.sk-label label {font-family: monospace;font-weight: bold;display: inline-block;line-height: 1.2em;}#sk-container-id-4 div.sk-label-container {text-align: center;}#sk-container-id-4 div.sk-container {/* jupyter's `normalize.less` sets `[hidden] { display: none; }` but bootstrap.min.css set `[hidden] { display: none !important; }` so we also need the `!important` here to be able to override the default hidden behavior on the sphinx rendered scikit-learn.org. See: https://github.com/scikit-learn/scikit-learn/issues/21755 */display: inline-block !important;position: relative;}#sk-container-id-4 div.sk-text-repr-fallback {display: none;}</style><div id=\"sk-container-id-4\" class=\"sk-top-container\"><div class=\"sk-text-repr-fallback\"><pre>XGBClassifier(base_score=None, booster=None, callbacks=None,\n",
              "              colsample_bylevel=None, colsample_bynode=None,\n",
              "              colsample_bytree=None, early_stopping_rounds=None,\n",
              "              enable_categorical=False, eval_metric=None, feature_types=None,\n",
              "              gamma=None, gpu_id=None, grow_policy=None, importance_type=None,\n",
              "              interaction_constraints=None, learning_rate=None, max_bin=None,\n",
              "              max_cat_threshold=None, max_cat_to_onehot=None,\n",
              "              max_delta_step=None, max_depth=None, max_leaves=None,\n",
              "              min_child_weight=None, missing=nan, monotone_constraints=None,\n",
              "              n_estimators=1250, n_jobs=None, num_parallel_tree=None,\n",
              "              predictor=None, random_state=None, ...)</pre><b>In a Jupyter environment, please rerun this cell to show the HTML representation or trust the notebook. <br />On GitHub, the HTML representation is unable to render, please try loading this page with nbviewer.org.</b></div><div class=\"sk-container\" hidden><div class=\"sk-item\"><div class=\"sk-estimator sk-toggleable\"><input class=\"sk-toggleable__control sk-hidden--visually\" id=\"sk-estimator-id-4\" type=\"checkbox\" checked><label for=\"sk-estimator-id-4\" class=\"sk-toggleable__label sk-toggleable__label-arrow\">XGBClassifier</label><div class=\"sk-toggleable__content\"><pre>XGBClassifier(base_score=None, booster=None, callbacks=None,\n",
              "              colsample_bylevel=None, colsample_bynode=None,\n",
              "              colsample_bytree=None, early_stopping_rounds=None,\n",
              "              enable_categorical=False, eval_metric=None, feature_types=None,\n",
              "              gamma=None, gpu_id=None, grow_policy=None, importance_type=None,\n",
              "              interaction_constraints=None, learning_rate=None, max_bin=None,\n",
              "              max_cat_threshold=None, max_cat_to_onehot=None,\n",
              "              max_delta_step=None, max_depth=None, max_leaves=None,\n",
              "              min_child_weight=None, missing=nan, monotone_constraints=None,\n",
              "              n_estimators=1250, n_jobs=None, num_parallel_tree=None,\n",
              "              predictor=None, random_state=None, ...)</pre></div></div></div></div></div>"
            ]
          },
          "metadata": {},
          "execution_count": 31
        }
      ]
    },
    {
      "cell_type": "code",
      "source": [
        "from sklearn.metrics import accuracy_score\n",
        "y_pred = model_xgb.predict(transformed_X_val)\n",
        "accuracy = accuracy_score(y_val, y_pred)\n",
        "print(\"Validation accuracy:\", accuracy)"
      ],
      "metadata": {
        "colab": {
          "base_uri": "https://localhost:8080/"
        },
        "id": "TBCKgJYDAvVw",
        "outputId": "c2e531fa-85dc-4f5c-c082-5fe0cb1732e8"
      },
      "execution_count": null,
      "outputs": [
        {
          "output_type": "stream",
          "name": "stdout",
          "text": [
            "Validation accuracy: 0.7932071809801068\n"
          ]
        }
      ]
    },
    {
      "cell_type": "code",
      "source": [
        "y_test = model_xgb.predict(transformed_X_test)\n",
        "y_preds = [-1 if val == 0 else 1 for val in y_test]\n",
        "df = pd.DataFrame(y_preds, columns=[\"Prediction\"])\n",
        "df.index.name = \"Id\"\n",
        "df.index += 1\n",
        "df.to_csv(\"/content/drive/MyDrive/test_data_word2vec_final.csv\")"
      ],
      "metadata": {
        "id": "hIKO-4nQBOrf"
      },
      "execution_count": null,
      "outputs": []
    }
  ]
}