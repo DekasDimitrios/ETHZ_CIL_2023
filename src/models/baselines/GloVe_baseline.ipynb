{
  "nbformat": 4,
  "nbformat_minor": 0,
  "metadata": {
    "colab": {
      "provenance": [],
      "machine_shape": "hm",
      "gpuType": "A100"
    },
    "kernelspec": {
      "name": "python3",
      "display_name": "Python 3"
    },
    "language_info": {
      "name": "python"
    },
    "accelerator": "GPU"
  },
  "cells": [
    {
      "cell_type": "code",
      "execution_count": null,
      "metadata": {
        "id": "ySY7VmYN2GjC"
      },
      "outputs": [],
      "source": [
        "\n",
        "import numpy as np\n",
        "import pandas as pd\n",
        "import sklearn\n",
        "import nltk\n",
        "from nltk import WhitespaceTokenizer\n"
      ]
    },
    {
      "cell_type": "markdown",
      "source": [
        "Load preprocessed data\n"
      ],
      "metadata": {
        "id": "Y-LKpj3b6zVr"
      }
    },
    {
      "cell_type": "code",
      "source": [
        "def load_tweets(file_path):\n",
        "    tweets = list()\n",
        "    with open(file_path, 'r', encoding='utf-8') as preprocessed_tweets:\n",
        "        for tweet in preprocessed_tweets :\n",
        "            tweets.append(tweet.rstrip('\\n'))\n",
        "    return tweets"
      ],
      "metadata": {
        "id": "P7BrjuLP61oa"
      },
      "execution_count": null,
      "outputs": []
    },
    {
      "cell_type": "code",
      "source": [
        "    train_pos_tweets = load_tweets('/content/processed_pos_tweets_non_transformer.txt')\n",
        "    train_neg_tweets = load_tweets('/content/processed_neg_tweets_non_transformer.txt')\n",
        "    test_tweets = load_tweets('/content/processed_test_tweets_non_transformer.txt')\n",
        "    print(\"Tweets loaded\")"
      ],
      "metadata": {
        "id": "JZUt9_5663fQ",
        "colab": {
          "base_uri": "https://localhost:8080/"
        },
        "outputId": "5b506899-b216-4ca3-8d76-c2debd93a5b2"
      },
      "execution_count": null,
      "outputs": [
        {
          "output_type": "stream",
          "name": "stdout",
          "text": [
            "Tweets loaded\n"
          ]
        }
      ]
    },
    {
      "cell_type": "markdown",
      "source": [
        "Convert to Dataframe"
      ],
      "metadata": {
        "id": "fZMn7jrB7vjk"
      }
    },
    {
      "cell_type": "code",
      "source": [
        "    from sklearn.model_selection import train_test_split\n",
        "    from sklearn.utils import shuffle\n",
        "    seed =12222\n",
        "    train_neg_labels = [0] * len(train_neg_tweets)\n",
        "    train_pos_labels = [1] * len(train_pos_tweets)\n",
        "\n",
        "    train_tweets = train_pos_tweets + train_neg_tweets\n",
        "    train_labels = train_pos_labels + train_neg_labels\n",
        "    #Shuffle\n",
        "    train_tweets, train_labels = shuffle(train_tweets, train_labels, random_state=10)\n",
        "    data = pd.DataFrame({'tweet': train_tweets, 'label': train_labels})\n",
        "\n",
        "    X = list(data[\"tweet\"])\n",
        "    y = list(data[\"label\"])\n",
        "    X_train, X_val, y_train, y_val = train_test_split(X, y, test_size=0.05,stratify=y,random_state=seed)\n",
        "    X_train_set = pd.DataFrame({'tweet': X_train, 'label': y_train})\n",
        "    X_val_set = pd.DataFrame({'tweet': X_val, 'label': y_val})\n",
        "\n",
        "    X_test_set = pd.DataFrame({'tweet': test_tweets})\n"
      ],
      "metadata": {
        "id": "DF7Dh0dW7yEt"
      },
      "execution_count": null,
      "outputs": []
    },
    {
      "cell_type": "code",
      "source": [
        "\n",
        "embeddings = {}\n",
        "with open(\"/content/drive/MyDrive/glove.twitter.27B.200d.txt\", \"r\") as glove:\n",
        "    for line in glove:\n",
        "        line = line.split()\n",
        "        word = line[0]\n",
        "        vec = np.asarray(line[1:], \"float32\")\n",
        "        embeddings[word] = vec\n",
        "len(embeddings.keys())\n",
        "\n"
      ],
      "metadata": {
        "id": "kSyGaqwIRrGp",
        "colab": {
          "base_uri": "https://localhost:8080/"
        },
        "outputId": "0ec82985-3a11-4475-f4b3-550d5df466d6"
      },
      "execution_count": null,
      "outputs": [
        {
          "output_type": "execute_result",
          "data": {
            "text/plain": [
              "1193514"
            ]
          },
          "metadata": {},
          "execution_count": 42
        }
      ]
    },
    {
      "cell_type": "code",
      "source": [
        "tokenizer = WhitespaceTokenizer()\n",
        "def tokenize(df):\n",
        "  df['tweet']=df['tweet'].apply(lambda tweet: tokenizer.tokenize(tweet))"
      ],
      "metadata": {
        "id": "E4S9c1LHuOHf"
      },
      "execution_count": null,
      "outputs": []
    },
    {
      "cell_type": "code",
      "source": [
        "tokenize(X_train_set)\n",
        "tokenize(X_val_set)\n",
        "tokenize(X_test_set)"
      ],
      "metadata": {
        "id": "UmeHNJoIu5Rx"
      },
      "execution_count": null,
      "outputs": []
    },
    {
      "cell_type": "code",
      "source": [
        "def tweet_embedding(tokens):\n",
        "    embedding = np.zeros(200)\n",
        "    count = 0\n",
        "    for token in tokens:\n",
        "        if token in embeddings:\n",
        "            embedding += embeddings[token]\n",
        "            count = count+1\n",
        "    # if count!=0:\n",
        "    #   embedding = embedding/count\n",
        "    return embedding"
      ],
      "metadata": {
        "id": "027ClDPxU_2C"
      },
      "execution_count": null,
      "outputs": []
    },
    {
      "cell_type": "code",
      "source": [
        "x_train=np.vstack(X_train_set['tweet'].apply(lambda tokens: tweet_embedding(tokens)))\n",
        "x_val=np.vstack(X_val_set['tweet'].apply(lambda tokens: tweet_embedding(tokens)))\n",
        "x_test=np.vstack(X_test_set['tweet'].apply(lambda tokens: tweet_embedding(tokens)))"
      ],
      "metadata": {
        "id": "v5T_eu46Xq-H"
      },
      "execution_count": null,
      "outputs": []
    },
    {
      "cell_type": "code",
      "source": [
        "# import torch\n",
        "import logging\n",
        "import sklearn\n",
        "from sklearn.ensemble import RandomForestClassifier\n",
        "import xgboost\n",
        "from xgboost import XGBClassifier\n",
        "# model = RandomForestClassifier(n_estimators=200,max_depth=10,min_samples_split=30,verbose=True,n_jobs=-1,random_state=seed)\n",
        "model =  XGBClassifier(n_estimators =850,  subsample = 0.8, tree_method = \"gpu_hist\", objective='binary:logistic', use_label_encoder=False,seed = seed)\n",
        "model.fit(x_train,y_train)"
      ],
      "metadata": {
        "colab": {
          "base_uri": "https://localhost:8080/",
          "height": 303
        },
        "id": "XpIY7s0OaXnr",
        "outputId": "a21cfcba-f6fb-4d42-dfda-bc489b327f42"
      },
      "execution_count": null,
      "outputs": [
        {
          "output_type": "stream",
          "name": "stderr",
          "text": [
            "/usr/local/lib/python3.10/dist-packages/xgboost/sklearn.py:1395: UserWarning: `use_label_encoder` is deprecated in 1.7.0.\n",
            "  warnings.warn(\"`use_label_encoder` is deprecated in 1.7.0.\")\n"
          ]
        },
        {
          "output_type": "execute_result",
          "data": {
            "text/plain": [
              "XGBClassifier(base_score=None, booster=None, callbacks=None,\n",
              "              colsample_bylevel=None, colsample_bynode=None,\n",
              "              colsample_bytree=None, early_stopping_rounds=None,\n",
              "              enable_categorical=False, eval_metric=None, feature_types=None,\n",
              "              gamma=None, gpu_id=None, grow_policy=None, importance_type=None,\n",
              "              interaction_constraints=None, learning_rate=None, max_bin=None,\n",
              "              max_cat_threshold=None, max_cat_to_onehot=None,\n",
              "              max_delta_step=None, max_depth=None, max_leaves=None,\n",
              "              min_child_weight=None, missing=nan, monotone_constraints=None,\n",
              "              n_estimators=850, n_jobs=None, num_parallel_tree=None,\n",
              "              predictor=None, random_state=None, ...)"
            ],
            "text/html": [
              "<style>#sk-container-id-6 {color: black;background-color: white;}#sk-container-id-6 pre{padding: 0;}#sk-container-id-6 div.sk-toggleable {background-color: white;}#sk-container-id-6 label.sk-toggleable__label {cursor: pointer;display: block;width: 100%;margin-bottom: 0;padding: 0.3em;box-sizing: border-box;text-align: center;}#sk-container-id-6 label.sk-toggleable__label-arrow:before {content: \"▸\";float: left;margin-right: 0.25em;color: #696969;}#sk-container-id-6 label.sk-toggleable__label-arrow:hover:before {color: black;}#sk-container-id-6 div.sk-estimator:hover label.sk-toggleable__label-arrow:before {color: black;}#sk-container-id-6 div.sk-toggleable__content {max-height: 0;max-width: 0;overflow: hidden;text-align: left;background-color: #f0f8ff;}#sk-container-id-6 div.sk-toggleable__content pre {margin: 0.2em;color: black;border-radius: 0.25em;background-color: #f0f8ff;}#sk-container-id-6 input.sk-toggleable__control:checked~div.sk-toggleable__content {max-height: 200px;max-width: 100%;overflow: auto;}#sk-container-id-6 input.sk-toggleable__control:checked~label.sk-toggleable__label-arrow:before {content: \"▾\";}#sk-container-id-6 div.sk-estimator input.sk-toggleable__control:checked~label.sk-toggleable__label {background-color: #d4ebff;}#sk-container-id-6 div.sk-label input.sk-toggleable__control:checked~label.sk-toggleable__label {background-color: #d4ebff;}#sk-container-id-6 input.sk-hidden--visually {border: 0;clip: rect(1px 1px 1px 1px);clip: rect(1px, 1px, 1px, 1px);height: 1px;margin: -1px;overflow: hidden;padding: 0;position: absolute;width: 1px;}#sk-container-id-6 div.sk-estimator {font-family: monospace;background-color: #f0f8ff;border: 1px dotted black;border-radius: 0.25em;box-sizing: border-box;margin-bottom: 0.5em;}#sk-container-id-6 div.sk-estimator:hover {background-color: #d4ebff;}#sk-container-id-6 div.sk-parallel-item::after {content: \"\";width: 100%;border-bottom: 1px solid gray;flex-grow: 1;}#sk-container-id-6 div.sk-label:hover label.sk-toggleable__label {background-color: #d4ebff;}#sk-container-id-6 div.sk-serial::before {content: \"\";position: absolute;border-left: 1px solid gray;box-sizing: border-box;top: 0;bottom: 0;left: 50%;z-index: 0;}#sk-container-id-6 div.sk-serial {display: flex;flex-direction: column;align-items: center;background-color: white;padding-right: 0.2em;padding-left: 0.2em;position: relative;}#sk-container-id-6 div.sk-item {position: relative;z-index: 1;}#sk-container-id-6 div.sk-parallel {display: flex;align-items: stretch;justify-content: center;background-color: white;position: relative;}#sk-container-id-6 div.sk-item::before, #sk-container-id-6 div.sk-parallel-item::before {content: \"\";position: absolute;border-left: 1px solid gray;box-sizing: border-box;top: 0;bottom: 0;left: 50%;z-index: -1;}#sk-container-id-6 div.sk-parallel-item {display: flex;flex-direction: column;z-index: 1;position: relative;background-color: white;}#sk-container-id-6 div.sk-parallel-item:first-child::after {align-self: flex-end;width: 50%;}#sk-container-id-6 div.sk-parallel-item:last-child::after {align-self: flex-start;width: 50%;}#sk-container-id-6 div.sk-parallel-item:only-child::after {width: 0;}#sk-container-id-6 div.sk-dashed-wrapped {border: 1px dashed gray;margin: 0 0.4em 0.5em 0.4em;box-sizing: border-box;padding-bottom: 0.4em;background-color: white;}#sk-container-id-6 div.sk-label label {font-family: monospace;font-weight: bold;display: inline-block;line-height: 1.2em;}#sk-container-id-6 div.sk-label-container {text-align: center;}#sk-container-id-6 div.sk-container {/* jupyter's `normalize.less` sets `[hidden] { display: none; }` but bootstrap.min.css set `[hidden] { display: none !important; }` so we also need the `!important` here to be able to override the default hidden behavior on the sphinx rendered scikit-learn.org. See: https://github.com/scikit-learn/scikit-learn/issues/21755 */display: inline-block !important;position: relative;}#sk-container-id-6 div.sk-text-repr-fallback {display: none;}</style><div id=\"sk-container-id-6\" class=\"sk-top-container\"><div class=\"sk-text-repr-fallback\"><pre>XGBClassifier(base_score=None, booster=None, callbacks=None,\n",
              "              colsample_bylevel=None, colsample_bynode=None,\n",
              "              colsample_bytree=None, early_stopping_rounds=None,\n",
              "              enable_categorical=False, eval_metric=None, feature_types=None,\n",
              "              gamma=None, gpu_id=None, grow_policy=None, importance_type=None,\n",
              "              interaction_constraints=None, learning_rate=None, max_bin=None,\n",
              "              max_cat_threshold=None, max_cat_to_onehot=None,\n",
              "              max_delta_step=None, max_depth=None, max_leaves=None,\n",
              "              min_child_weight=None, missing=nan, monotone_constraints=None,\n",
              "              n_estimators=850, n_jobs=None, num_parallel_tree=None,\n",
              "              predictor=None, random_state=None, ...)</pre><b>In a Jupyter environment, please rerun this cell to show the HTML representation or trust the notebook. <br />On GitHub, the HTML representation is unable to render, please try loading this page with nbviewer.org.</b></div><div class=\"sk-container\" hidden><div class=\"sk-item\"><div class=\"sk-estimator sk-toggleable\"><input class=\"sk-toggleable__control sk-hidden--visually\" id=\"sk-estimator-id-6\" type=\"checkbox\" checked><label for=\"sk-estimator-id-6\" class=\"sk-toggleable__label sk-toggleable__label-arrow\">XGBClassifier</label><div class=\"sk-toggleable__content\"><pre>XGBClassifier(base_score=None, booster=None, callbacks=None,\n",
              "              colsample_bylevel=None, colsample_bynode=None,\n",
              "              colsample_bytree=None, early_stopping_rounds=None,\n",
              "              enable_categorical=False, eval_metric=None, feature_types=None,\n",
              "              gamma=None, gpu_id=None, grow_policy=None, importance_type=None,\n",
              "              interaction_constraints=None, learning_rate=None, max_bin=None,\n",
              "              max_cat_threshold=None, max_cat_to_onehot=None,\n",
              "              max_delta_step=None, max_depth=None, max_leaves=None,\n",
              "              min_child_weight=None, missing=nan, monotone_constraints=None,\n",
              "              n_estimators=850, n_jobs=None, num_parallel_tree=None,\n",
              "              predictor=None, random_state=None, ...)</pre></div></div></div></div></div>"
            ]
          },
          "metadata": {},
          "execution_count": 47
        }
      ]
    },
    {
      "cell_type": "code",
      "source": [
        "from sklearn.metrics import accuracy_score\n",
        "y_pred = model.predict(x_val)\n",
        "accuracy = accuracy_score(y_val, y_pred)\n",
        "print(\"Validation accuracy:\", accuracy)"
      ],
      "metadata": {
        "colab": {
          "base_uri": "https://localhost:8080/"
        },
        "id": "b2qkcy5-ii6w",
        "outputId": "cbd1ce8a-fab3-4a85-88f8-4e6d21158348"
      },
      "execution_count": null,
      "outputs": [
        {
          "output_type": "stream",
          "name": "stdout",
          "text": [
            "Validation accuracy: 0.7905429844294473\n"
          ]
        }
      ]
    },
    {
      "cell_type": "code",
      "source": [
        "y_test = model.predict(x_test)\n",
        "y_preds = [-1 if val == 0 else 1 for val in y_test]\n",
        "df = pd.DataFrame(y_preds, columns=[\"Predict[ion\"])\n",
        "df.index.name = \"Id\"\n",
        "df.index += 1\n",
        "df.to_csv(\"/content/drive/MyDrive/test_data_twitter_glove_final.csv\")"
      ],
      "metadata": {
        "id": "-GbJ8EivivMP"
      },
      "execution_count": null,
      "outputs": []
    }
  ]
}