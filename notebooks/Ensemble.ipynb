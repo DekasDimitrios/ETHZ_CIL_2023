{
 "nbformat": 4,
 "nbformat_minor": 0,
 "metadata": {
  "colab": {
   "provenance": []
  },
  "kernelspec": {
   "name": "python3",
   "display_name": "Python 3"
  },
  "language_info": {
   "name": "python"
  }
 },
 "cells": [
  {
   "cell_type": "markdown",
   "source": [
    "### Soft voting"
   ],
   "metadata": {
    "id": "Xa3suPk6TBee"
   }
  },
  {
   "cell_type": "code",
   "source": [
    "import numpy as np\n",
    "import pandas as pd\n",
    "\n",
    "# List of text file paths\n",
    "file_paths = [\"logits_test1.txt\",\"logits_test2.txt\",\"logits_test3.txt\",\"logits_test4.txt\",\"logits_test5.txt\",\"logits_test6.txt\"]\n",
    "#file_paths = [\"average_logits.txt\",\"logits_best.txt\"]\n",
    "\n",
    "# Initialize empty lists to store positive and negative logits\n",
    "positive_logits = []\n",
    "negative_logits = []\n",
    "\n",
    "# Read each file and extract positive and negative logits\n",
    "for file_path in file_paths:\n",
    "    with open(file_path, 'r') as file:\n",
    "        # Skip the first line\n",
    "        next(file)\n",
    "        # Extract positive and negative logits from each line and append to the lists\n",
    "        logits = [line.split(',') for line in file]\n",
    "        positive_logits.append([float(line[1]) for line in logits])\n",
    "        negative_logits.append([float(line[0]) for line in logits])\n",
    "\n",
    "# Convert the lists to numpy arrays\n",
    "positive_logits_array = np.array(positive_logits).T\n",
    "negative_logits_array = np.array(negative_logits).T\n",
    "\n",
    "average_positive_logits = np.mean(positive_logits_array, axis=1)\n",
    "average_negative_logits = np.mean(negative_logits_array, axis=1)\n",
    "\n",
    "average_logits = np.column_stack((average_negative_logits, average_positive_logits))\n",
    "\n",
    "np.savetxt(\"average_logits.txt\", average_logits, delimiter=\",\", header=\"negative,positive\", comments=\"\")\n",
    "\n",
    "predictions = np.argmax(average_logits, axis=1)\n",
    "predictions = [-1 if test == 0 else 1 for test in predictions]\n",
    "\n",
    "df = pd.DataFrame(predictions, columns=[\"Prediction\"])\n",
    "df.index.name = \"Id\"\n",
    "df.index += 1\n",
    "df.to_csv(\"soft_voting_predictions.csv\")"
   ],
   "metadata": {
    "id": "n2R3nqRpGbyp"
   },
   "execution_count": null,
   "outputs": []
  },
  {
   "cell_type": "markdown",
   "source": [
    "### Majority hard voting"
   ],
   "metadata": {
    "id": "bhMDkw3HVGbe"
   }
  },
  {
   "cell_type": "code",
   "source": [
    "import pandas as pd\n",
    "from collections import Counter\n",
    "\n",
    "# List of file paths containing the prediction files\n",
    "prediction_files = [\"test_data1.csv\", \"test_data2.csv\", \"test_data3.csv\",\"test_data4.csv\",\"test_data5.csv\",\"test_data6.csv\"]\n",
    "\n",
    "# Read and combine predictions from each file\n",
    "predictions = []\n",
    "for file in prediction_files:\n",
    "    df = pd.read_csv(file, index_col=\"Id\")\n",
    "    predictions.append(df[\"Prediction\"].values)\n",
    "\n",
    "# Perform majority voting\n",
    "majority_voted_predictions = []\n",
    "for i in range(len(predictions[0])):\n",
    "    votes = [prediction[i] for prediction in predictions]\n",
    "    majority_vote = Counter(votes).most_common(1)[0][0]\n",
    "    majority_voted_predictions.append(majority_vote)\n",
    "\n",
    "# Create a DataFrame with the majority voted predictions\n",
    "df_majority_voted = pd.DataFrame(majority_voted_predictions, columns=[\"Prediction\"])\n",
    "df_majority_voted.index.name = \"Id\"\n",
    "df_majority_voted.index += 1\n",
    "\n",
    "# Save the majority voted predictions to a CSV file\n",
    "df_majority_voted.to_csv(\"majority_voting_predictions.csv\")"
   ],
   "metadata": {
    "id": "GQrDfSh0VIi5"
   },
   "execution_count": null,
   "outputs": []
  }
 ]
}
