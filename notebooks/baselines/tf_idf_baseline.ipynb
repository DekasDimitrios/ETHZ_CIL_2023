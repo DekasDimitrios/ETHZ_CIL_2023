{
 "cells": [
  {
   "cell_type": "code",
   "execution_count": 1,
   "metadata": {},
   "outputs": [],
   "source": [
    "\n",
    "\n",
    "import numpy as np\n",
    "import pandas as pd\n",
    "import sklearn\n",
    "\n"
   ]
  },
  {
   "attachments": {},
   "cell_type": "markdown",
   "metadata": {},
   "source": [
    "Load data"
   ]
  },
  {
   "cell_type": "code",
   "execution_count": 2,
   "metadata": {},
   "outputs": [],
   "source": [
    "def load_tweets(file_path):    \n",
    "    tweets = list()\n",
    "    with open(file_path, 'r', encoding='utf-8') as preprocessed_tweets:\n",
    "        for tweet in preprocessed_tweets :\n",
    "            tweets.append(tweet.rstrip('\\n'))          \n",
    "    return tweets\n",
    "    "
   ]
  },
  {
   "cell_type": "code",
   "execution_count": 3,
   "metadata": {},
   "outputs": [
    {
     "name": "stdout",
     "output_type": "stream",
     "text": [
      "Tweets loaded\n"
     ]
    }
   ],
   "source": [
    "    train_pos_tweets = load_tweets('processed_pos_tweets_non_transformer.txt')\n",
    "    train_neg_tweets = load_tweets('processed_neg_tweets_non_transformer.txt')\n",
    "    test_tweets = load_tweets('processed_test_tweets_non_transformer.txt')\n",
    "    print(\"Tweets loaded\")"
   ]
  },
  {
   "attachments": {},
   "cell_type": "markdown",
   "metadata": {},
   "source": [
    "Convert to Dataframe"
   ]
  },
  {
   "cell_type": "code",
   "execution_count": 4,
   "metadata": {},
   "outputs": [],
   "source": [
    "    from sklearn.model_selection import train_test_split\n",
    "    from sklearn.utils import shuffle\n",
    "    seed =12222\n",
    "    train_neg_labels = [0] * len(train_neg_tweets)\n",
    "    train_pos_labels = [1] * len(train_pos_tweets)\n",
    "\n",
    "    train_tweets = train_pos_tweets + train_neg_tweets\n",
    "    train_labels = train_pos_labels + train_neg_labels \n",
    "    #Shuffle\n",
    "    train_tweets, train_labels = shuffle(train_tweets, train_labels, random_state=10)\n",
    "    data = pd.DataFrame({'tweet': train_tweets, 'label': train_labels})\n",
    "\n",
    "    X = list(data[\"tweet\"])\n",
    "    y = list(data[\"label\"])\n",
    "    X_train, X_val, y_train, y_val = train_test_split(X, y, test_size=0.05,stratify=y,random_state=seed)\n",
    "    X_test = pd.DataFrame({'tweet': test_tweets})\n",
    "    \n"
   ]
  },
  {
   "attachments": {},
   "cell_type": "markdown",
   "metadata": {},
   "source": [
    "TD-IDF"
   ]
  },
  {
   "cell_type": "code",
   "execution_count": 5,
   "metadata": {},
   "outputs": [],
   "source": [
    "from sklearn.preprocessing import StandardScaler\n",
    "from sklearn.feature_extraction.text import TfidfVectorizer\n",
    "X_test = list(X_test['tweet'])\n",
    "\n",
    "vectorizer = TfidfVectorizer()\n",
    "scaler =  StandardScaler(with_mean=False) # thus mean is set to zero\n",
    "\n",
    "#Fit tdidf vectorizer\n",
    "vectorizer = vectorizer.fit(X_train)\n",
    "\n",
    "X_train = vectorizer.transform(X_train)\n",
    "X_val = vectorizer.transform(X_val)\n",
    "X_test = vectorizer.transform(X_test)\n",
    "\n",
    "#Scale\n",
    "scaler.fit(X_train)\n",
    "\n",
    "X_train = scaler.transform(X_train)\n",
    "X_val = scaler.transform(X_val)\n",
    "X_test = scaler.transform(X_test)\n"
   ]
  },
  {
   "attachments": {},
   "cell_type": "markdown",
   "metadata": {},
   "source": [
    "Check dimesionality of transformed representation"
   ]
  },
  {
   "cell_type": "code",
   "execution_count": 6,
   "metadata": {},
   "outputs": [
    {
     "name": "stdout",
     "output_type": "stream",
     "text": [
      "X_train dimensions (2153743, 302425)\n",
      "X_val dimensions (113355, 302425)\n",
      "X_test dimensions (10000, 302425)\n"
     ]
    }
   ],
   "source": [
    "print('X_train dimensions',X_train.shape)\n",
    "print('X_val dimensions',X_val.shape)\n",
    "print('X_test dimensions',X_test.shape)"
   ]
  },
  {
   "attachments": {},
   "cell_type": "markdown",
   "metadata": {},
   "source": [
    "Linear models"
   ]
  },
  {
   "cell_type": "code",
   "execution_count": 43,
   "metadata": {},
   "outputs": [],
   "source": [
    "\n",
    "from sklearn.svm import LinearSVC\n",
    "model = LinearSVC(class_weight='balanced', random_state=seed,penalty='l2')\n",
    "\n"
   ]
  },
  {
   "cell_type": "code",
   "execution_count": 44,
   "metadata": {},
   "outputs": [
    {
     "name": "stderr",
     "output_type": "stream",
     "text": [
      "C:\\Users\\User\\AppData\\Roaming\\Python\\Python38\\site-packages\\sklearn\\svm\\_base.py:976: ConvergenceWarning: Liblinear failed to converge, increase the number of iterations.\n",
      "  warnings.warn(\"Liblinear failed to converge, increase \"\n"
     ]
    },
    {
     "name": "stdout",
     "output_type": "stream",
     "text": [
      "Validation accuracy: 0.6780644876714745\n"
     ]
    }
   ],
   "source": [
    "from sklearn.metrics import accuracy_score\n",
    "model.fit(X_train, y_train)\n",
    "y_pred = model.predict(X_val)\n",
    "accuracy = accuracy_score(y_val, y_pred)\n",
    "print(\"Validation accuracy:\", accuracy)"
   ]
  },
  {
   "cell_type": "code",
   "execution_count": 55,
   "metadata": {},
   "outputs": [],
   "source": [
    "y_test = model.predict(X_test)\n",
    "y_preds = [-1 if val == 0 else 1 for val in y_test]\n",
    "df = pd.DataFrame(y_preds, columns=[\"Prediction\"])\n",
    "df.index.name = \"Id\"\n",
    "df.index += 1\n",
    "df.to_csv(\"test_data_td_idf_svm.csv\")"
   ]
  },
  {
   "attachments": {},
   "cell_type": "markdown",
   "metadata": {},
   "source": [
    "Non linear models\n"
   ]
  },
  {
   "cell_type": "code",
   "execution_count": 13,
   "metadata": {},
   "outputs": [],
   "source": [
    "# from sklearn.ensemble import ExtraTreesClassifier\n",
    "# model =  ExtraTreesClassifier(class_weight='balanced',random_state=seed)\n",
    "from sklearn.ensemble import RandomForestClassifier\n",
    "model = RandomForestClassifier(n_estimators=200, max_depth=11,random_state=seed,class_weight='balanced')\n"
   ]
  },
  {
   "cell_type": "code",
   "execution_count": 14,
   "metadata": {},
   "outputs": [],
   "source": [
    "from sklearn.metrics import accuracy_score\n",
    "model.fit(X_train, y_train)\n",
    "y_pred = model.predict(X_val)\n",
    "accuracy = accuracy_score(y_val, y_pred)\n",
    "print(\"Validation accuracy:\", accuracy)"
   ]
  },
  {
   "cell_type": "code",
   "execution_count": 11,
   "metadata": {},
   "outputs": [
    {
     "name": "stdout",
     "output_type": "stream",
     "text": [
      "Validation accuracy: 0.7344007763221737\n"
     ]
    }
   ],
   "source": [
    "from sklearn.metrics import accuracy_score\n",
    "model.fit(X_train, y_train)\n",
    "y_pred = model.predict(X_val)\n",
    "accuracy = accuracy_score(y_val, y_pred)\n",
    "print(\"Validation accuracy:\", accuracy)"
   ]
  },
  {
   "cell_type": "code",
   "execution_count": 12,
   "metadata": {},
   "outputs": [],
   "source": [
    "y_test = model.predict(X_test)\n",
    "y_preds = [-1 if val == 0 else 1 for val in y_test]\n",
    "df = pd.DataFrame(y_preds, columns=[\"Prediction\"])\n",
    "df.index.name = \"Id\"\n",
    "df.index += 1\n",
    "df.to_csv(\"test_data_td_idf_extra_tree.csv\")"
   ]
  }
 ],
 "metadata": {
  "kernelspec": {
   "display_name": "myenv",
   "language": "python",
   "name": "python3"
  },
  "language_info": {
   "codemirror_mode": {
    "name": "ipython",
    "version": 3
   },
   "file_extension": ".py",
   "mimetype": "text/x-python",
   "name": "python",
   "nbconvert_exporter": "python",
   "pygments_lexer": "ipython3",
   "version": "3.8.12"
  },
  "orig_nbformat": 4
 },
 "nbformat": 4,
 "nbformat_minor": 2
}
